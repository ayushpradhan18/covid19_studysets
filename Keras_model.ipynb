{
 "cells": [
  {
   "cell_type": "code",
   "execution_count": 1,
   "metadata": {},
   "outputs": [
    {
     "name": "stderr",
     "output_type": "stream",
     "text": [
      "Using TensorFlow backend.\n"
     ]
    }
   ],
   "source": [
    "#Importing the modules\n",
    "import numpy as np \n",
    "from sklearn.model_selection import train_test_split\n",
    "from sklearn.preprocessing import StandardScaler\n",
    "import pandas as pd \n",
    "import matplotlib.pyplot as plt\n",
    "import keras\n",
    "from keras.models import Sequential\n",
    "from keras.layers import Dense"
   ]
  },
  {
   "cell_type": "code",
   "execution_count": 24,
   "metadata": {},
   "outputs": [
    {
     "name": "stdout",
     "output_type": "stream",
     "text": [
      "[[1]\n",
      " [2]\n",
      " [3]\n",
      " [4]]\n",
      "[[ 554   17   28]\n",
      " [ 652   18   30]\n",
      " [ 939   26   36]\n",
      " [1432   42   39]]\n"
     ]
    }
   ],
   "source": [
    "#Loading the data sets\n",
    "df = pd.read_csv('Datasets/covid_19_clean_data_Daywise(23-march).csv')\n",
    "X = np.array(df[['Days']])\n",
    "Y = np.array(df[['Confirmed','Deaths','Recovered']])\n",
    "print(X[:4])\n",
    "print(Y[:4])"
   ]
  },
  {
   "cell_type": "code",
   "execution_count": 5,
   "metadata": {},
   "outputs": [
    {
     "name": "stdout",
     "output_type": "stream",
     "text": [
      "[[22]\n",
      " [55]\n",
      " [34]\n",
      " [25]]\n",
      "[[58]\n",
      " [42]\n",
      " [45]]\n",
      "[[ 45209   1118   5147]\n",
      " [181527   7126  78088]\n",
      " [ 79553   2629  25222]\n",
      " [ 69017   1666   9392]]\n",
      "[[242708   9867  84854]\n",
      " [ 92767   3153  48221]\n",
      " [101567   3446  55858]]\n"
     ]
    }
   ],
   "source": [
    "#Creating randon indices for spliting the data set\n",
    "random_indices = np.random.permutation(61)\n",
    "\n",
    "\n",
    "#Input train/test feature\n",
    "X_train = X[random_indices[:58]]\n",
    "X_test = X[random_indices[58:]]\n",
    "print(X_train[:4])\n",
    "print(X_test[:4])\n",
    "\n",
    "#Output train/test feature\n",
    "Y_train = Y[random_indices[:58]]\n",
    "Y_test = Y[random_indices[58:]]\n",
    "print(Y_train[:4])\n",
    "print(Y_test[:4])"
   ]
  },
  {
   "cell_type": "code",
   "execution_count": 6,
   "metadata": {},
   "outputs": [
    {
     "name": "stdout",
     "output_type": "stream",
     "text": [
      "[[-0.46234051]\n",
      " [ 1.42046744]\n",
      " [ 0.22231693]\n",
      " [-0.29117615]]\n"
     ]
    },
    {
     "name": "stderr",
     "output_type": "stream",
     "text": [
      "C:\\Users\\ASUS\\AppData\\Roaming\\Python\\Python36\\site-packages\\sklearn\\utils\\validation.py:595: DataConversionWarning: Data with input dtype int64 was converted to float64 by StandardScaler.\n",
      "  warnings.warn(msg, DataConversionWarning)\n",
      "C:\\Users\\ASUS\\AppData\\Roaming\\Python\\Python36\\site-packages\\sklearn\\utils\\validation.py:595: DataConversionWarning: Data with input dtype int64 was converted to float64 by StandardScaler.\n",
      "  warnings.warn(msg, DataConversionWarning)\n",
      "C:\\Users\\ASUS\\AppData\\Roaming\\Python\\Python36\\site-packages\\sklearn\\utils\\validation.py:595: DataConversionWarning: Data with input dtype int64 was converted to float64 by StandardScaler.\n",
      "  warnings.warn(msg, DataConversionWarning)\n"
     ]
    }
   ],
   "source": [
    "#Normalizing the data\n",
    "scaler = StandardScaler()\n",
    "scaler.fit(X_train) # Computes the mean and standard deviation\n",
    "X_train = scaler.transform(X_train) # Perform transformation: x = (x-mean)/std\n",
    "X_test = scaler.transform(X_test)\n",
    "print(X_train[:4])"
   ]
  },
  {
   "cell_type": "code",
   "execution_count": 9,
   "metadata": {},
   "outputs": [],
   "source": [
    "#Creationg a keras mode\n",
    "model = Sequential()\n",
    "model.add(Dense(10, input_dim=X_train.shape[1],kernel_initializer='normal', activation='relu'))\n",
    "model.add(Dense(10, activation='sigmoid'))\n",
    "model.add(Dense(10, activation='sigmoid'))\n",
    "model.add(Dense(3, activation='softmax')) # 'sigmoid'\n",
    "\n",
    "model.add(Dense(3,kernel_initializer='normal'))\n",
    "# Compile model\n",
    "model.compile(loss='mean_squared_error', optimizer='adam', metrics=['accuracy']) # 'binary_crossentropy'\n",
    "    # 'adam', 'adagrad', 'sgd'"
   ]
  },
  {
   "cell_type": "code",
   "execution_count": 10,
   "metadata": {},
   "outputs": [
    {
     "name": "stdout",
     "output_type": "stream",
     "text": [
      "_________________________________________________________________\n",
      "Layer (type)                 Output Shape              Param #   \n",
      "=================================================================\n",
      "dense_3 (Dense)              (None, 10)                20        \n",
      "_________________________________________________________________\n",
      "dense_4 (Dense)              (None, 10)                110       \n",
      "_________________________________________________________________\n",
      "dense_5 (Dense)              (None, 10)                110       \n",
      "_________________________________________________________________\n",
      "dense_6 (Dense)              (None, 3)                 33        \n",
      "_________________________________________________________________\n",
      "dense_7 (Dense)              (None, 3)                 12        \n",
      "=================================================================\n",
      "Total params: 285\n",
      "Trainable params: 285\n",
      "Non-trainable params: 0\n",
      "_________________________________________________________________\n"
     ]
    }
   ],
   "source": [
    "#Retriving the summery\n",
    "model.summary()"
   ]
  },
  {
   "cell_type": "code",
   "execution_count": 11,
   "metadata": {},
   "outputs": [
    {
     "name": "stdout",
     "output_type": "stream",
     "text": [
      "Epoch 1/20\n",
      "58/58 [==============================] - 1s 10ms/step - loss: 4631246539.0345 - acc: 1.0000\n",
      "Epoch 2/20\n",
      "58/58 [==============================] - 0s 188us/step - loss: 4631245841.6552 - acc: 1.0000\n",
      "Epoch 3/20\n",
      "58/58 [==============================] - 0s 234us/step - loss: 4631245594.4828 - acc: 1.0000\n",
      "Epoch 4/20\n",
      "58/58 [==============================] - 0s 233us/step - loss: 4631245206.0690 - acc: 1.0000\n",
      "Epoch 5/20\n",
      "58/58 [==============================] - 0s 218us/step - loss: 4631244694.0690 - acc: 1.0000\n",
      "Epoch 6/20\n",
      "58/58 [==============================] - 0s 252us/step - loss: 4631244376.2759 - acc: 1.0000\n",
      "Epoch 7/20\n",
      "58/58 [==============================] - 0s 249us/step - loss: 4631243855.4483 - acc: 1.0000\n",
      "Epoch 8/20\n",
      "58/58 [==============================] - 0s 219us/step - loss: 4631243970.2069 - acc: 1.0000\n",
      "Epoch 9/20\n",
      "58/58 [==============================] - 0s 169us/step - loss: 4631243564.1379 - acc: 1.0000\n",
      "Epoch 10/20\n",
      "58/58 [==============================] - 0s 207us/step - loss: 4631243316.9655 - acc: 1.0000\n",
      "Epoch 11/20\n",
      "58/58 [==============================] - 0s 751us/step - loss: 4631243211.0345 - acc: 1.0000\n",
      "Epoch 12/20\n",
      "58/58 [==============================] - 0s 277us/step - loss: 4631242292.9655 - acc: 1.0000\n",
      "Epoch 13/20\n",
      "58/58 [==============================] - 0s 199us/step - loss: 4631242310.6207 - acc: 1.0000\n",
      "Epoch 14/20\n",
      "58/58 [==============================] - 0s 236us/step - loss: 4631241886.8966 - acc: 1.0000\n",
      "Epoch 15/20\n",
      "58/58 [==============================] - 0s 222us/step - loss: 4631241992.8276 - acc: 1.0000\n",
      "Epoch 16/20\n",
      "58/58 [==============================] - 0s 272us/step - loss: 4631241321.9310 - acc: 1.0000\n",
      "Epoch 17/20\n",
      "58/58 [==============================] - 0s 223us/step - loss: 4631241286.6207 - acc: 1.0000\n",
      "Epoch 18/20\n",
      "58/58 [==============================] - 0s 206us/step - loss: 4631240633.3793 - acc: 1.0000\n",
      "Epoch 19/20\n",
      "58/58 [==============================] - 0s 208us/step - loss: 4631240209.6552 - acc: 1.0000\n",
      "Epoch 20/20\n",
      "58/58 [==============================] - 0s 216us/step - loss: 4631239838.8966 - acc: 1.0000\n"
     ]
    },
    {
     "data": {
      "text/plain": [
       "<keras.callbacks.History at 0x255978076d8>"
      ]
     },
     "execution_count": 11,
     "metadata": {},
     "output_type": "execute_result"
    }
   ],
   "source": [
    "#Finting the model\n",
    "model.fit(X_train,Y_train,epochs=20)"
   ]
  },
  {
   "cell_type": "code",
   "execution_count": 12,
   "metadata": {},
   "outputs": [
    {
     "name": "stdout",
     "output_type": "stream",
     "text": [
      "[[0.0889803  0.0482337  0.07875752]\n",
      " [0.08894303 0.04839119 0.07870743]\n",
      " [0.08894877 0.0483616  0.07871874]]\n",
      "[[242708   9867  84854]\n",
      " [ 92767   3153  48221]\n",
      " [101567   3446  55858]]\n"
     ]
    }
   ],
   "source": [
    "print(model.predict(X_test))\n",
    "print(Y_test)"
   ]
  },
  {
   "cell_type": "code",
   "execution_count": 15,
   "metadata": {},
   "outputs": [
    {
     "name": "stdout",
     "output_type": "stream",
     "text": [
      "3/3 [==============================] - 0s 1ms/step\n",
      "\n",
      "acc: 100.00%\n"
     ]
    }
   ],
   "source": [
    "# evaluate the model\n",
    "scores = model.evaluate(X_test, Y_test)\n",
    "print(\"\\n%s: %.2f%%\" % (model.metrics_names[1], scores[1]*100))"
   ]
  }
 ],
 "metadata": {
  "kernelspec": {
   "display_name": "Python 3",
   "language": "python",
   "name": "python3"
  },
  "language_info": {
   "codemirror_mode": {
    "name": "ipython",
    "version": 3
   },
   "file_extension": ".py",
   "mimetype": "text/x-python",
   "name": "python",
   "nbconvert_exporter": "python",
   "pygments_lexer": "ipython3",
   "version": "3.6.8"
  }
 },
 "nbformat": 4,
 "nbformat_minor": 2
}
